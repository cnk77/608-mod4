{
 "cells": [
  {
   "cell_type": "code",
   "execution_count": 1,
   "id": "ca83463e-cdc7-4445-97a4-98f3724b45d4",
   "metadata": {},
   "outputs": [
    {
     "name": "stdout",
     "output_type": "stream",
     "text": [
      "\n",
      "Creating a bar chart from numbers:\n",
      "Index   Value Bar\n",
      "    0      10 **********\n",
      "    1      13 *************\n",
      "    2       7 *******\n",
      "    3       6 ******\n",
      "    4      17 *****************\n"
     ]
    }
   ],
   "source": [
    "#5.4 Practice\n",
    "\n",
    "#Kyle Hudson\n",
    "\n",
    "\"\"\"Displaying a bar chart\"\"\"\n",
    "\n",
    "numbers = [10, 13, 7, 6, 17]\n",
    "\n",
    "print('\\nCreating a bar chart from numbers:')\n",
    "print(f'Index{\"Value\":>8} Bar')\n",
    "\n",
    "for index, value in enumerate(numbers):\n",
    "    print(f'{index:>5}{value:>8} {\"*\" * value}')\n"
   ]
  },
  {
   "cell_type": "code",
   "execution_count": 2,
   "id": "e3b760e4-3b7b-4323-b33a-41f50a4d35c5",
   "metadata": {},
   "outputs": [
    {
     "name": "stdout",
     "output_type": "stream",
     "text": [
      "WORD        COUNT\n",
      "different   1\n",
      "is          2\n",
      "more        1\n",
      "sample      2\n",
      "several     1\n",
      "some        1\n",
      "text        2\n",
      "this        2\n",
      "with        2\n",
      "words       2\n",
      "\n",
      "Number of unique words: 10\n"
     ]
    }
   ],
   "source": [
    "# 6.2.7 Practice\n",
    "\n",
    "# Kyle Hudson\n",
    "\n",
    "# fig06_02.py\n",
    "\"\"\"Tokenizing a string and counting unique words.\"\"\"\n",
    "\n",
    "text = ('this is sample text with several words ' \n",
    "        'this is more sample text with some different words')\n",
    "\n",
    "word_counts = {}\n",
    "\n",
    "# count occurrences of each unique word\n",
    "for word in text.split():\n",
    "    if word in word_counts: \n",
    "        word_counts[word] += 1  # update existing key-value pair\n",
    "    else:\n",
    "        word_counts[word] = 1  # insert new key-value pair\n",
    "\n",
    "print(f'{\"WORD\":<12}COUNT')\n",
    "\n",
    "for word, count in sorted(word_counts.items()):\n",
    "    print(f'{word:<12}{count}')\n",
    "\n",
    "print('\\nNumber of unique words:', len(word_counts))"
   ]
  },
  {
   "cell_type": "code",
   "execution_count": 9,
   "id": "07f15ce8-301a-40f2-b843-86768b9ea8fa",
   "metadata": {},
   "outputs": [
    {
     "name": "stdout",
     "output_type": "stream",
     "text": [
      "different   1\n",
      "is          2\n",
      "more        1\n",
      "sample      2\n",
      "several     1\n",
      "some        1\n",
      "text        2\n",
      "this        2\n",
      "with        2\n",
      "words       2\n"
     ]
    }
   ],
   "source": [
    "from collections import Counter\n",
    "\n",
    "text = ('this is sample text with several words ' \n",
    "        'this is more sample text with some different words')\n",
    "\n",
    "counter = Counter(text.split())\n",
    "\n",
    "for word, count in sorted(counter.items()):\n",
    "    print(f'{word:12}{count}')      "
   ]
  },
  {
   "cell_type": "code",
   "execution_count": 13,
   "id": "ac0962ca-3a8c-4502-9261-c20676f935d2",
   "metadata": {},
   "outputs": [
    {
     "name": "stdout",
     "output_type": "stream",
     "text": [
      "WORD        COUNT\n",
      "1905,       1\n",
      "Center      1\n",
      "City        1\n",
      "Established 1\n",
      "Innovation  1\n",
      "Maryville   1\n",
      "Missouri    1\n",
      "Northland   1\n",
      "Northwest   2\n",
      "Northwest-Kansas1\n",
      "Online.     1\n",
      "State       1\n",
      "University  1\n",
      "a           2\n",
      "also        1\n",
      "and         2\n",
      "as          2\n",
      "at          1\n",
      "broad       1\n",
      "campus      1\n",
      "comprehensive1\n",
      "four-year   1\n",
      "graduate    1\n",
      "in          1\n",
      "is          1\n",
      "its         2\n",
      "location    1\n",
      "of          1\n",
      "offers      1\n",
      "on          1\n",
      "programs    1\n",
      "range       1\n",
      "regional    1\n",
      "selected    1\n",
      "state-assisted,1\n",
      "that        1\n",
      "the         1\n",
      "through     1\n",
      "undergraduate1\n",
      "university  1\n",
      "well        1\n",
      "\n",
      "Number of unique words: 41\n"
     ]
    }
   ],
   "source": [
    "# 6.2.7 Practice\n",
    "\n",
    "# Kyle Hudson\n",
    "\n",
    "# fig06_02.py\n",
    "\"\"\"Tokenizing a string and counting unique words.\"\"\"\n",
    "\n",
    "text = str('Established in 1905, Northwest Missouri State University is a state-assisted, ' \n",
    "        'comprehensive four-year regional university that also offers a broad range of '\n",
    "        'undergraduate and selected graduate programs on its Maryville campus as well '\n",
    "        'as its Northwest-Kansas City location at the Northland Innovation Center and '\n",
    "        'through Northwest Online.')\n",
    "\n",
    "word_counts = {}\n",
    "\n",
    "# count occurrences of each unique word\n",
    "for word in text.split():\n",
    "    if word in word_counts: \n",
    "        word_counts[word] += 1  # update existing key-value pair\n",
    "    else:\n",
    "        word_counts[word] = 1  # insert new key-value pair\n",
    "\n",
    "print(f'{\"WORD\":<12}COUNT')\n",
    "\n",
    "for word, count in sorted(word_counts.items()):\n",
    "    print(f'{word:<12}{count}')\n",
    "\n",
    "print('\\nNumber of unique words:', len(word_counts))"
   ]
  },
  {
   "cell_type": "code",
   "execution_count": null,
   "id": "4d1c220b-b951-420f-81df-baab0b644501",
   "metadata": {},
   "outputs": [],
   "source": []
  }
 ],
 "metadata": {
  "kernelspec": {
   "display_name": "Python 3 (ipykernel)",
   "language": "python",
   "name": "python3"
  },
  "language_info": {
   "codemirror_mode": {
    "name": "ipython",
    "version": 3
   },
   "file_extension": ".py",
   "mimetype": "text/x-python",
   "name": "python",
   "nbconvert_exporter": "python",
   "pygments_lexer": "ipython3",
   "version": "3.8.12"
  }
 },
 "nbformat": 4,
 "nbformat_minor": 5
}
