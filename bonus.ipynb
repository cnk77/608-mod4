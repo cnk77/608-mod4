{
 "cells": [
  {
   "cell_type": "code",
   "execution_count": 11,
   "id": "4f87bfe4-bcb1-4252-b5ce-1dca9e2a5840",
   "metadata": {},
   "outputs": [
    {
     "name": "stdout",
     "output_type": "stream",
     "text": [
      "WORD          COUNT\n",
      "across        1\n",
      "and           2\n",
      "bearcats      4\n",
      "best          1\n",
      "brave         1\n",
      "colors        1\n",
      "come          2\n",
      "fight         5\n",
      "glorious      1\n",
      "green         1\n",
      "hail          1\n",
      "history       1\n",
      "in            1\n",
      "land          1\n",
      "missouri      1\n",
      "of            1\n",
      "on            3\n",
      "our           1\n",
      "proud         1\n",
      "raised        1\n",
      "song          1\n",
      "stand         1\n",
      "strong        1\n",
      "the           1\n",
      "to            1\n",
      "triumphantly  1\n",
      "up            1\n",
      "victory       2\n",
      "we            1\n",
      "white         1\n",
      "will          1\n",
      "wings         1\n",
      "you           2\n",
      "\n",
      "Number of unique words: 33\n"
     ]
    }
   ],
   "source": [
    "# Module 4 Bonus\n",
    "\n",
    "# Kyle Hudson\n",
    "\n",
    "# text taken from: https://www.nwmissouri.edu/finearts/music/ensembles/marching/songs.htm\n",
    "\n",
    "import string\n",
    "\n",
    "# reading text file - taken from https://www.pythontutorial.net/python-basics/python-read-text-file/\n",
    "with open('fight_song.txt') as f:   \n",
    "    text = f.read()   \n",
    "    \n",
    "# removing punctuation - taken from https://towardsdatascience.com/a-guide-to-cleaning-text-in-python-943356ac86ca\n",
    "punct = set(string.punctuation)\n",
    "text = \"\".join([ch for ch in text if ch not in punct])\n",
    "\n",
    "# case normalization - taken from https://towardsdatascience.com/a-guide-to-cleaning-text-in-python-943356ac86ca\n",
    "text = text.lower()\n",
    "\n",
    "# creating dictionary - from Chapter 6.2.7 of textbook\n",
    "word_counts = {}\n",
    "\n",
    "# count occurrences of each unique word\n",
    "for word in text.split():\n",
    "    if word in word_counts: \n",
    "        word_counts[word] += 1  # update existing key-value pair\n",
    "    else:\n",
    "        word_counts[word] = 1  # insert new key-value pair\n",
    "\n",
    "print(f'{\"WORD\":<14}COUNT')\n",
    "\n",
    "for word, count in sorted(word_counts.items()):\n",
    "    print(f'{word:<14}{count}')\n",
    "\n",
    "print('\\nNumber of unique words:', len(word_counts))"
   ]
  }
 ],
 "metadata": {
  "kernelspec": {
   "display_name": "Python 3 (ipykernel)",
   "language": "python",
   "name": "python3"
  },
  "language_info": {
   "codemirror_mode": {
    "name": "ipython",
    "version": 3
   },
   "file_extension": ".py",
   "mimetype": "text/x-python",
   "name": "python",
   "nbconvert_exporter": "python",
   "pygments_lexer": "ipython3",
   "version": "3.8.12"
  }
 },
 "nbformat": 4,
 "nbformat_minor": 5
}
