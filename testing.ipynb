{
 "cells": [
  {
   "cell_type": "code",
   "execution_count": null,
   "id": "4ea67f69-88dc-4c5b-ae8f-0c4c5c7b3566",
   "metadata": {},
   "outputs": [],
   "source": [
    "filename = 'fight_song.txt'\n",
    "file = open(filename, 'rt')\n",
    "text = file.read()\n",
    "file.close()\n",
    "print(text)\n",
    "words = text.split()\n",
    "print(\n"
   ]
  },
  {
   "cell_type": "code",
   "execution_count": null,
   "id": "fd7d3f31-929c-442f-9264-f16e390d77fc",
   "metadata": {},
   "outputs": [],
   "source": []
  }
 ],
 "metadata": {
  "kernelspec": {
   "display_name": "Python 3 (ipykernel)",
   "language": "python",
   "name": "python3"
  },
  "language_info": {
   "codemirror_mode": {
    "name": "ipython",
    "version": 3
   },
   "file_extension": ".py",
   "mimetype": "text/x-python",
   "name": "python",
   "nbconvert_exporter": "python",
   "pygments_lexer": "ipython3",
   "version": "3.8.12"
  }
 },
 "nbformat": 4,
 "nbformat_minor": 5
}
