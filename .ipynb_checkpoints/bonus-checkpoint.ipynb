{
 "cells": [
  {
   "cell_type": "code",
   "execution_count": 8,
   "id": "4f87bfe4-bcb1-4252-b5ce-1dca9e2a5840",
   "metadata": {},
   "outputs": [
    {
     "name": "stdout",
     "output_type": "stream",
     "text": [
      "WORD        COUNT\n",
      "'Come       2\n",
      "'Hail       1\n",
      "'Our        1\n",
      "'Proud,     1\n",
      "'\\n',       1\n",
      "'across     1\n",
      "'best       1\n",
      "'on         1\n",
      "(Fight      1\n",
      "(you        2\n",
      "Bearcats    4\n",
      "Green       1\n",
      "Land.']     1\n",
      "Missouri    1\n",
      "Song)\\n',   1\n",
      "Victory     1\n",
      "White,\\n',  1\n",
      "['Wings     1\n",
      "and         2\n",
      "brave       1\n",
      "colors      1\n",
      "fight!)\\n', 2\n",
      "fight,      2\n",
      "glorious    1\n",
      "history.\\n',1\n",
      "in          1\n",
      "of          1\n",
      "on          2\n",
      "raised      1\n",
      "stand.\\n',  1\n",
      "strong      1\n",
      "the         1\n",
      "to          1\n",
      "triumphantly,\\n',1\n",
      "up          1\n",
      "victory.\\n',1\n",
      "we          1\n",
      "will        1\n",
      "\n",
      "Number of unique words: 38\n"
     ]
    }
   ],
   "source": [
    "# Module 4 Bonus\n",
    "\n",
    "# Kyle Hudson\n",
    "\n",
    "# text taken from: https://www.nwmissouri.edu/finearts/music/ensembles/marching/songs.htm\n",
    "\n",
    "\n",
    "with open('fight_song.txt') as f:\n",
    "    text = str(f.readlines())\n",
    "    \n",
    "    \n",
    "word_counts = {}\n",
    "\n",
    "# count occurrences of each unique word\n",
    "for word in text.split():\n",
    "    if word in word_counts: \n",
    "        word_counts[word] += 1  # update existing key-value pair\n",
    "    else:\n",
    "        word_counts[word] = 1  # insert new key-value pair\n",
    "\n",
    "print(f'{\"WORD\":<12}COUNT')\n",
    "\n",
    "for word, count in sorted(word_counts.items()):\n",
    "    print(f'{word:<12}{count}')\n",
    "\n",
    "print('\\nNumber of unique words:', len(word_counts))"
   ]
  }
 ],
 "metadata": {
  "kernelspec": {
   "display_name": "Python 3 (ipykernel)",
   "language": "python",
   "name": "python3"
  },
  "language_info": {
   "codemirror_mode": {
    "name": "ipython",
    "version": 3
   },
   "file_extension": ".py",
   "mimetype": "text/x-python",
   "name": "python",
   "nbconvert_exporter": "python",
   "pygments_lexer": "ipython3",
   "version": "3.8.12"
  }
 },
 "nbformat": 4,
 "nbformat_minor": 5
}
